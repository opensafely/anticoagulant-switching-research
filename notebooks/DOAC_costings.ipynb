{
 "cells": [
  {
   "cell_type": "markdown",
   "metadata": {},
   "source": [
    "# Estimate of warfarin to DOAC switches"
   ]
  },
  {
   "cell_type": "code",
   "execution_count": 127,
   "metadata": {},
   "outputs": [],
   "source": [
    "import pandas as pd\n",
    "import numpy as np\n",
    "import os\n",
    "from ebmdatalab import bq, maps, charts"
   ]
  },
  {
   "cell_type": "markdown",
   "metadata": {},
   "source": [
    "## Calculate DOAC annual cost"
   ]
  },
  {
   "cell_type": "code",
   "execution_count": 128,
   "metadata": {},
   "outputs": [],
   "source": [
    "#create dataframe for DOAC costings\n",
    "doacs = {'chemical': ['Edoxaban','Apixaban','Rivaroxaban','Dabigatran etexilate'],\n",
    "         'cost_per_pack': [49,53.2,50.4,51],\n",
    "         'pack_size': [28,56,28,60],\n",
    "         'daily_doses': [1,2,1,2],\n",
    "        }\n",
    "df = pd.DataFrame(doacs) #create dataframe"
   ]
  },
  {
   "cell_type": "code",
   "execution_count": 129,
   "metadata": {},
   "outputs": [],
   "source": [
    "#get proportion data from output from DOACs notebook\n",
    "doac_df = pd.read_csv(os.path.join('..','output','doac_types.csv'))\n",
    "#filter to use proportion of switching from March-May 2020\n",
    "doac_df=doac_df.loc[(doac_df['year']==2020) & (doac_df['period']=='March-May')]\n",
    "doac_df=doac_df.drop(['period', 'year'], axis=1)"
   ]
  },
  {
   "cell_type": "code",
   "execution_count": 130,
   "metadata": {},
   "outputs": [
    {
     "data": {
      "text/html": [
       "<div>\n",
       "<style scoped>\n",
       "    .dataframe tbody tr th:only-of-type {\n",
       "        vertical-align: middle;\n",
       "    }\n",
       "\n",
       "    .dataframe tbody tr th {\n",
       "        vertical-align: top;\n",
       "    }\n",
       "\n",
       "    .dataframe thead th {\n",
       "        text-align: right;\n",
       "    }\n",
       "</style>\n",
       "<table border=\"1\" class=\"dataframe\">\n",
       "  <thead>\n",
       "    <tr style=\"text-align: right;\">\n",
       "      <th></th>\n",
       "      <th>chemical</th>\n",
       "      <th>patient_count</th>\n",
       "      <th>%</th>\n",
       "    </tr>\n",
       "  </thead>\n",
       "  <tbody>\n",
       "    <tr>\n",
       "      <th>12</th>\n",
       "      <td>Apixaban</td>\n",
       "      <td>6680.0</td>\n",
       "      <td>33.5</td>\n",
       "    </tr>\n",
       "    <tr>\n",
       "      <th>13</th>\n",
       "      <td>Dabigatran etexilate</td>\n",
       "      <td>120.0</td>\n",
       "      <td>0.6</td>\n",
       "    </tr>\n",
       "    <tr>\n",
       "      <th>14</th>\n",
       "      <td>Edoxaban</td>\n",
       "      <td>7620.0</td>\n",
       "      <td>38.2</td>\n",
       "    </tr>\n",
       "    <tr>\n",
       "      <th>15</th>\n",
       "      <td>Rivaroxaban</td>\n",
       "      <td>5530.0</td>\n",
       "      <td>27.7</td>\n",
       "    </tr>\n",
       "  </tbody>\n",
       "</table>\n",
       "</div>"
      ],
      "text/plain": [
       "                chemical  patient_count     %\n",
       "12              Apixaban         6680.0  33.5\n",
       "13  Dabigatran etexilate          120.0   0.6\n",
       "14              Edoxaban         7620.0  38.2\n",
       "15           Rivaroxaban         5530.0  27.7"
      ]
     },
     "execution_count": 130,
     "metadata": {},
     "output_type": "execute_result"
    }
   ],
   "source": [
    "doac_df.head()"
   ]
  },
  {
   "cell_type": "code",
   "execution_count": 131,
   "metadata": {},
   "outputs": [],
   "source": [
    "doac_df = pd.merge(df,doac_df)"
   ]
  },
  {
   "cell_type": "code",
   "execution_count": 132,
   "metadata": {},
   "outputs": [
    {
     "data": {
      "text/html": [
       "<div>\n",
       "<style scoped>\n",
       "    .dataframe tbody tr th:only-of-type {\n",
       "        vertical-align: middle;\n",
       "    }\n",
       "\n",
       "    .dataframe tbody tr th {\n",
       "        vertical-align: top;\n",
       "    }\n",
       "\n",
       "    .dataframe thead th {\n",
       "        text-align: right;\n",
       "    }\n",
       "</style>\n",
       "<table border=\"1\" class=\"dataframe\">\n",
       "  <thead>\n",
       "    <tr style=\"text-align: right;\">\n",
       "      <th></th>\n",
       "      <th>chemical</th>\n",
       "      <th>cost_per_pack</th>\n",
       "      <th>pack_size</th>\n",
       "      <th>daily_doses</th>\n",
       "      <th>patient_count</th>\n",
       "      <th>%</th>\n",
       "    </tr>\n",
       "  </thead>\n",
       "  <tbody>\n",
       "    <tr>\n",
       "      <th>0</th>\n",
       "      <td>Edoxaban</td>\n",
       "      <td>49.0</td>\n",
       "      <td>28</td>\n",
       "      <td>1</td>\n",
       "      <td>7620.0</td>\n",
       "      <td>38.2</td>\n",
       "    </tr>\n",
       "    <tr>\n",
       "      <th>1</th>\n",
       "      <td>Apixaban</td>\n",
       "      <td>53.2</td>\n",
       "      <td>56</td>\n",
       "      <td>2</td>\n",
       "      <td>6680.0</td>\n",
       "      <td>33.5</td>\n",
       "    </tr>\n",
       "    <tr>\n",
       "      <th>2</th>\n",
       "      <td>Rivaroxaban</td>\n",
       "      <td>50.4</td>\n",
       "      <td>28</td>\n",
       "      <td>1</td>\n",
       "      <td>5530.0</td>\n",
       "      <td>27.7</td>\n",
       "    </tr>\n",
       "    <tr>\n",
       "      <th>3</th>\n",
       "      <td>Dabigatran etexilate</td>\n",
       "      <td>51.0</td>\n",
       "      <td>60</td>\n",
       "      <td>2</td>\n",
       "      <td>120.0</td>\n",
       "      <td>0.6</td>\n",
       "    </tr>\n",
       "  </tbody>\n",
       "</table>\n",
       "</div>"
      ],
      "text/plain": [
       "               chemical  cost_per_pack  pack_size  daily_doses  patient_count  \\\n",
       "0              Edoxaban           49.0         28            1         7620.0   \n",
       "1              Apixaban           53.2         56            2         6680.0   \n",
       "2           Rivaroxaban           50.4         28            1         5530.0   \n",
       "3  Dabigatran etexilate           51.0         60            2          120.0   \n",
       "\n",
       "      %  \n",
       "0  38.2  \n",
       "1  33.5  \n",
       "2  27.7  \n",
       "3   0.6  "
      ]
     },
     "execution_count": 132,
     "metadata": {},
     "output_type": "execute_result"
    }
   ],
   "source": [
    "doac_df.head()"
   ]
  },
  {
   "cell_type": "code",
   "execution_count": 133,
   "metadata": {},
   "outputs": [],
   "source": [
    "#calculate annualised cost\n",
    "#first, calculate annual cost, including adjustment for actual cost (7.11% average reduction)\n",
    "doac_df['annual_net_cost'] = 365 * 0.9289 *(doac_df['cost_per_pack']/(doac_df['pack_size']/doac_df['daily_doses']))\n",
    "#create proportional cost for each DOAC, based on the proportion of uptake\n",
    "doac_df['proportion_cost'] = doac_df['annual_net_cost']*(doac_df['%']/100)\n",
    "#df.head()"
   ]
  },
  {
   "cell_type": "code",
   "execution_count": 134,
   "metadata": {},
   "outputs": [],
   "source": [
    "#create DOAC cost by summing DOAC proportion weighting costs\n",
    "doac_cost = doac_df['proportion_cost'].sum(axis=0)"
   ]
  },
  {
   "cell_type": "code",
   "execution_count": 135,
   "metadata": {},
   "outputs": [
    {
     "name": "stdout",
     "output_type": "stream",
     "text": [
      "Annual average actual cost of DOACs per patient: £614.97\n"
     ]
    }
   ],
   "source": [
    "print(\"Annual average actual cost of DOACs per patient: \" + \"£{:,.2f}\".format(doac_cost))"
   ]
  },
  {
   "cell_type": "markdown",
   "metadata": {},
   "source": [
    "## Annual costs per patient on warfarin (excluding liquids)"
   ]
  },
  {
   "cell_type": "code",
   "execution_count": 136,
   "metadata": {},
   "outputs": [
    {
     "name": "stdout",
     "output_type": "stream",
     "text": [
      "Cost of warfarin tablets Dec 2019 - Feb 2020: £1,034,876.84\n"
     ]
    }
   ],
   "source": [
    "#Calculate overall cost for warfarin tablets for 3 months to end of Feb 2020 for TPP practices\n",
    "sql='''\n",
    "WITH #subquery, creating a list of TPP practices as per December 2018 (latest data available)\n",
    "  tpp_practices AS (\n",
    "  SELECT\n",
    "    ODS\n",
    "  FROM\n",
    "    hscic.vendors\n",
    "  WHERE\n",
    "    Principal_Supplier = 'TPP'\n",
    "    AND date = '2018-12-01')\n",
    "SELECT\n",
    "  SUM(actual_cost) AS actual_cost\n",
    "FROM\n",
    "  hscic.normalised_prescribing AS rx\n",
    "INNER JOIN\n",
    "  tpp_practices AS tpp\n",
    "ON\n",
    "  tpp.ODS = rx.practice\n",
    "WHERE\n",
    "  bnf_code LIKE '0208020V0%' #warfarin\n",
    "  AND bnf_name LIKE '%tab%' #tablets only, excluding liquids\n",
    "  AND month BETWEEN '2019-12-01'\n",
    "  AND '2020-02-01'\n",
    "'''\n",
    "warf_df = bq.cached_read(sql, csv_path=os.path.join('..','output','warf_df.csv'))\n",
    "warf_cost = warf_df['actual_cost'].sum(axis=0) # create single line variable\n",
    "print(\"Cost of warfarin tablets Dec 2019 - Feb 2020: \" + \"£{:,.2f}\".format(warf_cost))"
   ]
  },
  {
   "cell_type": "markdown",
   "metadata": {},
   "source": [
    "### Calculate cost of switch"
   ]
  },
  {
   "cell_type": "code",
   "execution_count": 137,
   "metadata": {},
   "outputs": [],
   "source": [
    "#get switch data from outputs from switch notebook\n",
    "switch_df = pd.read_csv(os.path.join('..','output','doac_switchers.csv'))"
   ]
  },
  {
   "cell_type": "code",
   "execution_count": 138,
   "metadata": {},
   "outputs": [
    {
     "data": {
      "text/html": [
       "<div>\n",
       "<style scoped>\n",
       "    .dataframe tbody tr th:only-of-type {\n",
       "        vertical-align: middle;\n",
       "    }\n",
       "\n",
       "    .dataframe tbody tr th {\n",
       "        vertical-align: top;\n",
       "    }\n",
       "\n",
       "    .dataframe thead th {\n",
       "        text-align: right;\n",
       "    }\n",
       "</style>\n",
       "<table border=\"1\" class=\"dataframe\">\n",
       "  <thead>\n",
       "    <tr style=\"text-align: right;\">\n",
       "      <th></th>\n",
       "      <th>Unnamed: 0</th>\n",
       "      <th>year</th>\n",
       "      <th>period</th>\n",
       "      <th>baseline warfarin patients (thousands)</th>\n",
       "      <th>switched (thousands)</th>\n",
       "      <th>switch (%)</th>\n",
       "      <th>continued_warfarin (%)</th>\n",
       "      <th>switched back (% of switchers)</th>\n",
       "      <th>had_inr (% of continued)</th>\n",
       "      <th>had_ttr (% of continued)</th>\n",
       "    </tr>\n",
       "  </thead>\n",
       "  <tbody>\n",
       "    <tr>\n",
       "      <th>0</th>\n",
       "      <td>0</td>\n",
       "      <td>2019</td>\n",
       "      <td>March-May</td>\n",
       "      <td>194.5</td>\n",
       "      <td>6.7</td>\n",
       "      <td>3.5</td>\n",
       "      <td>90.9</td>\n",
       "      <td>4.1</td>\n",
       "      <td>83.7</td>\n",
       "      <td>38.0</td>\n",
       "    </tr>\n",
       "    <tr>\n",
       "      <th>1</th>\n",
       "      <td>1</td>\n",
       "      <td>2020</td>\n",
       "      <td>March-May</td>\n",
       "      <td>163.7</td>\n",
       "      <td>20.0</td>\n",
       "      <td>12.2</td>\n",
       "      <td>83.1</td>\n",
       "      <td>5.8</td>\n",
       "      <td>80.1</td>\n",
       "      <td>38.7</td>\n",
       "    </tr>\n",
       "    <tr>\n",
       "      <th>2</th>\n",
       "      <td>0</td>\n",
       "      <td>2019</td>\n",
       "      <td>June-Aug</td>\n",
       "      <td>185.6</td>\n",
       "      <td>5.9</td>\n",
       "      <td>3.2</td>\n",
       "      <td>91.4</td>\n",
       "      <td>4.4</td>\n",
       "      <td>82.3</td>\n",
       "      <td>39.2</td>\n",
       "    </tr>\n",
       "    <tr>\n",
       "      <th>3</th>\n",
       "      <td>1</td>\n",
       "      <td>2020</td>\n",
       "      <td>June-Aug</td>\n",
       "      <td>142.8</td>\n",
       "      <td>6.2</td>\n",
       "      <td>4.3</td>\n",
       "      <td>89.6</td>\n",
       "      <td>4.6</td>\n",
       "      <td>78.8</td>\n",
       "      <td>39.3</td>\n",
       "    </tr>\n",
       "  </tbody>\n",
       "</table>\n",
       "</div>"
      ],
      "text/plain": [
       "   Unnamed: 0  year     period  baseline warfarin patients (thousands)  \\\n",
       "0           0  2019  March-May                                   194.5   \n",
       "1           1  2020  March-May                                   163.7   \n",
       "2           0  2019   June-Aug                                   185.6   \n",
       "3           1  2020   June-Aug                                   142.8   \n",
       "\n",
       "   switched (thousands)  switch (%)  continued_warfarin (%)  \\\n",
       "0                   6.7         3.5                    90.9   \n",
       "1                  20.0        12.2                    83.1   \n",
       "2                   5.9         3.2                    91.4   \n",
       "3                   6.2         4.3                    89.6   \n",
       "\n",
       "   switched back (% of switchers)  had_inr (% of continued)  \\\n",
       "0                             4.1                      83.7   \n",
       "1                             5.8                      80.1   \n",
       "2                             4.4                      82.3   \n",
       "3                             4.6                      78.8   \n",
       "\n",
       "   had_ttr (% of continued)  \n",
       "0                      38.0  \n",
       "1                      38.7  \n",
       "2                      39.2  \n",
       "3                      39.3  "
      ]
     },
     "execution_count": 138,
     "metadata": {},
     "output_type": "execute_result"
    }
   ],
   "source": [
    "switch_df.head()"
   ]
  },
  {
   "cell_type": "code",
   "execution_count": 139,
   "metadata": {},
   "outputs": [],
   "source": [
    "switch_doac_df=switch_df.loc[(switch_df['year']==2020) & (switch_df['period']=='March-May')]"
   ]
  },
  {
   "cell_type": "code",
   "execution_count": 140,
   "metadata": {},
   "outputs": [
    {
     "data": {
      "text/html": [
       "<div>\n",
       "<style scoped>\n",
       "    .dataframe tbody tr th:only-of-type {\n",
       "        vertical-align: middle;\n",
       "    }\n",
       "\n",
       "    .dataframe tbody tr th {\n",
       "        vertical-align: top;\n",
       "    }\n",
       "\n",
       "    .dataframe thead th {\n",
       "        text-align: right;\n",
       "    }\n",
       "</style>\n",
       "<table border=\"1\" class=\"dataframe\">\n",
       "  <thead>\n",
       "    <tr style=\"text-align: right;\">\n",
       "      <th></th>\n",
       "      <th>Unnamed: 0</th>\n",
       "      <th>year</th>\n",
       "      <th>period</th>\n",
       "      <th>baseline warfarin patients (thousands)</th>\n",
       "      <th>switched (thousands)</th>\n",
       "      <th>switch (%)</th>\n",
       "      <th>continued_warfarin (%)</th>\n",
       "      <th>switched back (% of switchers)</th>\n",
       "      <th>had_inr (% of continued)</th>\n",
       "      <th>had_ttr (% of continued)</th>\n",
       "    </tr>\n",
       "  </thead>\n",
       "  <tbody>\n",
       "    <tr>\n",
       "      <th>1</th>\n",
       "      <td>1</td>\n",
       "      <td>2020</td>\n",
       "      <td>March-May</td>\n",
       "      <td>163.7</td>\n",
       "      <td>20.0</td>\n",
       "      <td>12.2</td>\n",
       "      <td>83.1</td>\n",
       "      <td>5.8</td>\n",
       "      <td>80.1</td>\n",
       "      <td>38.7</td>\n",
       "    </tr>\n",
       "  </tbody>\n",
       "</table>\n",
       "</div>"
      ],
      "text/plain": [
       "   Unnamed: 0  year     period  baseline warfarin patients (thousands)  \\\n",
       "1           1  2020  March-May                                   163.7   \n",
       "\n",
       "   switched (thousands)  switch (%)  continued_warfarin (%)  \\\n",
       "1                  20.0        12.2                    83.1   \n",
       "\n",
       "   switched back (% of switchers)  had_inr (% of continued)  \\\n",
       "1                             5.8                      80.1   \n",
       "\n",
       "   had_ttr (% of continued)  \n",
       "1                      38.7  "
      ]
     },
     "execution_count": 140,
     "metadata": {},
     "output_type": "execute_result"
    }
   ],
   "source": [
    "switch_doac_df.head()"
   ]
  },
  {
   "cell_type": "code",
   "execution_count": 141,
   "metadata": {},
   "outputs": [
    {
     "name": "stdout",
     "output_type": "stream",
     "text": [
      "Annual average actual cost of DOACs per patient: £614.97\n",
      "Annual cost per warfarin patient: £25.29\n",
      "Annual drug cost difference per patient from switch from warfarin to DOAC: £589.68\n",
      "Number of patients switched: 20000.0\n",
      "Estimated annual cost difference for switch from warfarin to DOAC in TPP practices: £11,793,580.28\n",
      "Proportion of patients in England registered at TPP practice: 38.00%\n",
      "Estimated annual cost different for switch from warfarin to DOAC in England: £31,034,898.60\n"
     ]
    }
   ],
   "source": [
    "print(\"Annual average actual cost of DOACs per patient: \" + \"£{:,.2f}\".format(noac_cost))#cost_per_patient for warfarin\n",
    "warfarin_pts = 1000* switch_doac_df['baseline warfarin patients (thousands)'].sum(axis=0) #from DOAC switch df\n",
    "#calculate annual costs by multiplying by 4\n",
    "warf_cost_per_patient = 4 * warf_cost/warfarin_pts\n",
    "print(\"Annual cost per warfarin patient: \" + \"£{:,.2f}\".format(warf_cost_per_patient))\n",
    "#estimated cost difference between NOAC and warfarin\n",
    "doac_diff =noac_cost - warf_cost_per_patient\n",
    "print(\"Annual drug cost difference per patient from switch from warfarin to DOAC: \"\"£{:,.2f}\".format(doac_diff))\n",
    "#switch costs for TPP population\n",
    "switched_pts = 1000* switch_doac_df['switched (thousands)'].sum(axis=0) # from DOAC switch df\n",
    "print(\"Number of patients switched: \" + str(switched_pts))\n",
    "tpp_switch_costs = switched_pts * doac_diff\n",
    "print(\"Estimated annual cost difference for switch from warfarin to DOAC in TPP practices: \" + \"£{:,.2f}\".format(tpp_switch_costs))\n",
    "#calculate proportion of patients at TPP practice (as per December 2018)\n",
    "#use BQ to get list size (as per December 2018)\n",
    "sql='''\n",
    "select sum(total_list_size) as list_size, # calculate all practices list size\n",
    "sum(case when vendors.Principal_Supplier = 'TPP' then total_list_size else 0 end) as tpp_list_size # calculate TPP practices list size\n",
    "from hscic.practice_statistics as stats\n",
    "inner join\n",
    "hscic.vendors as vendors\n",
    "on\n",
    "date(stats.month) = vendors.Date\n",
    "and\n",
    "stats.practice = vendors.ODS\n",
    "where\n",
    "stats.month = '2018-12-01' # latest available date\n",
    "'''\n",
    "tpp_df = bq.cached_read(sql, csv_path=os.path.join('..','output','tpp_df.csv'))\n",
    "#calculate TPP proportion\n",
    "prop_tpp = tpp_df['tpp_list_size'].sum(axis=0)/tpp_df['list_size'].sum(axis=0)\n",
    "print(\"Proportion of patients in England registered at TPP practice: \" + \"{:.2%}\".format(prop_tpp))\n",
    "#Using percentage TPP coverage, national costs:\n",
    "national_switch_costs = (tpp_switch_costs/prop_tpp)\n",
    "print(\"Estimated annual cost different for switch from warfarin to DOAC in England: \" + \"£{:,.2f}\".format(national_switch_costs))"
   ]
  },
  {
   "cell_type": "code",
   "execution_count": null,
   "metadata": {},
   "outputs": [],
   "source": []
  }
 ],
 "metadata": {
  "jupytext": {
   "cell_metadata_filter": "all",
   "notebook_metadata_filter": "all,-language_info",
   "text_representation": {
    "extension": ".py",
    "format_name": "light",
    "format_version": "1.5",
    "jupytext_version": "1.3.3"
   }
  },
  "kernelspec": {
   "display_name": "Python 3",
   "language": "python",
   "name": "python3"
  },
  "language_info": {
   "codemirror_mode": {
    "name": "ipython",
    "version": 3
   },
   "file_extension": ".py",
   "mimetype": "text/x-python",
   "name": "python",
   "nbconvert_exporter": "python",
   "pygments_lexer": "ipython3",
   "version": "3.8.1"
  }
 },
 "nbformat": 4,
 "nbformat_minor": 4
}
